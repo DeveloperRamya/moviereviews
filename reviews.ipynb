{
 "cells": [
  {
   "cell_type": "code",
   "execution_count": null,
   "id": "b273947e",
   "metadata": {},
   "outputs": [],
   "source": [
    "import pandas as pd\n",
    "\n",
    "# Define the first dataset\n",
    "data1 = {\n",
    "    'index': [1, 2, 3, 4, 5],\n",
    "    'movie_name': ['The Godfather', 'The Silence of the Lambs', 'Star Wars: Episode V - The Empire Strikes Back', 'The Shawshank Redemption', 'The Shining'],\n",
    "    'year_of_release': [1972, 1991, 1980, 1994, 1980],\n",
    "    'category': ['R', 'R', 'PG', 'R', 'R'],\n",
    "    'run_time': ['175 min', '118 min', '124 min', '142 min', '146 min'],\n",
    "    'genre': ['Crime, Drama', 'Crime, Drama, Thriller', 'Action, Adventure, Fantasy', 'Drama', 'Drama, Horror'],\n",
    "    'imdb_rating': [9.2, 8.6, 8.7, 9.3, 8.4],\n",
    "    'votes': ['1,860,471', '1,435,344', '1,294,805', '2,683,302', '1,025,560'],\n",
    "    'gross_total': ['$134.97M', '$130.74M', '$290.48M', '$28.34M', '$44.02M']\n",
    "}\n",
    "\n",
    "# Define the second dataset\n",
    "data2 = {\n",
    "    'Position': [1, 2, 3, 4, 5],\n",
    "    'Const': ['tt2085059', 'tt8425058', 'tt1210166', 'tt2084970', 'tt0133093'],\n",
    "    'Title': ['Black Mirror', 'Brexit: The Uncivil War', 'Moneyball', 'The Imitation Game', 'The Matrix'],\n",
    "    'IMDb Rating': [8.7, 7.0, 7.6, 8.0, 8.7],\n",
    "    'Runtime (mins)': [60, 92, 133, 114, 136],\n",
    "    'Year': [2011, 2019, 2011, 2014, 1999],\n",
    "    'Genres': ['Drama, Mystery, Sci-Fi, Thriller', 'Biography, Drama, History', 'Biography, Drama, Sport', 'Biography, Drama, Thriller, War', 'Action, Sci-Fi'],\n",
    "    'Num Votes': [619226, 17553, 453231, 808542, 2006315],\n",
    "    'Release Date': ['2011-12-04', '2019-01-07', '2011-09-09', '2014-08-29', '1999-03-24'],\n",
    "    'Directors': ['', 'Toby Haynes', 'Bennett Miller', 'Morten Tyldum', 'Lilly Wachowski, Lana Wachowski']\n",
    "}\n",
    "\n",
    "# Create pandas DataFrames\n",
    "df1 = pd.DataFrame(data1)\n",
    "df2 = pd.DataFrame(data2)\n",
    "\n",
    "# Merge the two datasets on the 'index' and 'Position' columns\n",
    "merged_df = pd.merge(df1, df2, left_on='index', right_on='Position')\n",
    "\n",
    "# Display the merged dataset\n",
    "print(merged_df)\n"
   ]
  }
 ],
 "metadata": {
  "kernelspec": {
   "display_name": "Python 3 (ipykernel)",
   "language": "python",
   "name": "python3"
  },
  "language_info": {
   "codemirror_mode": {
    "name": "ipython",
    "version": 3
   },
   "file_extension": ".py",
   "mimetype": "text/x-python",
   "name": "python",
   "nbconvert_exporter": "python",
   "pygments_lexer": "ipython3",
   "version": "3.11.3"
  }
 },
 "nbformat": 4,
 "nbformat_minor": 5
}
